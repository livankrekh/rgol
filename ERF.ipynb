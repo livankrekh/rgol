{
 "cells": [
  {
   "cell_type": "code",
   "execution_count": 1,
   "metadata": {},
   "outputs": [],
   "source": [
    "import numpy as np"
   ]
  },
  {
   "cell_type": "code",
   "execution_count": 2,
   "metadata": {},
   "outputs": [],
   "source": [
    "%load_ext Cython"
   ]
  },
  {
   "cell_type": "code",
   "execution_count": 3,
   "metadata": {},
   "outputs": [],
   "source": [
    "%%cython\n",
    "cimport cython\n",
    "cimport numpy as np\n",
    "import numpy as np\n",
    "from libc.math cimport log2\n",
    "from cython.parallel import prange, parallel\n",
    "\n",
    "@cython.cdivision(True)\n",
    "@cython.boundscheck(False)\n",
    "@cython.nonecheck(False)\n",
    "@cython.wraparound(False)\n",
    "cpdef double entropy(double[:, :] y):\n",
    "    cdef float n = y.shape[0]\n",
    "    \n",
    "    _,  cnts = np.unique(y, return_counts=True)\n",
    "    if len(cnts) == 1:\n",
    "        return 0\n",
    "    cdef double accum = 0;\n",
    "    cdef int i = 0;\n",
    "    cdef double p;\n",
    "    for i in range(len(cnts)):\n",
    "        p = cnts[i] / n\n",
    "        accum += p * log2(p)\n",
    "    return -accum\n",
    "\n",
    "@cython.cdivision(True)\n",
    "@cython.boundscheck(False)\n",
    "@cython.nonecheck(False)\n",
    "@cython.wraparound(False)\n",
    "cpdef double gini(double[:, :] y):\n",
    "    cdef float n = y.shape[0]\n",
    "    \n",
    "    _,  cnts = np.unique(y, return_counts=True)\n",
    "    cdef double accum = 0;\n",
    "    cdef int i = 0;\n",
    "    cdef double p;\n",
    "    for i in range(len(cnts)):\n",
    "        p = cnts[i] / n\n",
    "        accum += p * p\n",
    "    return 1 - accum\n",
    "\n",
    "@cython.cdivision(True)\n",
    "@cython.boundscheck(False)\n",
    "@cython.nonecheck(False)\n",
    "@cython.wraparound(False)\n",
    "cpdef double variance(double[:, :] y):\n",
    "    return np.var(y)\n",
    "\n",
    "@cython.cdivision(True)\n",
    "@cython.boundscheck(False)\n",
    "@cython.nonecheck(False)\n",
    "@cython.wraparound(False)\n",
    "cpdef double mad_median(double[:, :] y):\n",
    "    return np.mean(np.abs(y - np.median(y)))\n",
    "\n",
    "def mode(a):\n",
    "    if len(a) == 0:\n",
    "        return np.nan\n",
    "    (_, idx, counts) = np.unique(a, return_index=True, return_counts=True)\n",
    "    index = idx[np.argmax(counts)]\n",
    "    mode = a[index]\n",
    "    return mode"
   ]
  },
  {
   "cell_type": "code",
   "execution_count": 4,
   "metadata": {},
   "outputs": [],
   "source": [
    "import numpy as np\n",
    "from sklearn.base import BaseEstimator\n",
    "\n",
    "# import pyximport\n",
    "# pyximport.install(language_level=3)\n",
    "# from criterion import *\n",
    "\n",
    "\n",
    "\n",
    "class Node():\n",
    "    \n",
    "    def __init__(self, feature_idx=0, threshold=0, labels=None, left=None,\n",
    "                 right=None, index_mask=None, agg=None):\n",
    "        self.feature_idx = feature_idx\n",
    "        self.threshold = threshold\n",
    "        self.labels = labels\n",
    "        self.left = left\n",
    "        self.left_labels = None\n",
    "        self.right = right\n",
    "        self.right_labels = None\n",
    "        self.agg = agg\n",
    "        self.index_mask = index_mask\n",
    "        self.left_mask = None\n",
    "        self.right_mask = None\n",
    "        self.n_samples = 0\n",
    "        if self.labels is not None:\n",
    "            self.n_samples = len(self.labels)\n",
    "            \n",
    "        self.impurity = -1\n",
    "        self.predict_left = None\n",
    "        self.predict_right = None\n",
    "        \n",
    "    @property\n",
    "    def is_leaf(self):\n",
    "        return self.left is None or self.right is None\n",
    "    \n",
    "    def __repr__(self):\n",
    "        r = f'[{self.feature_idx}]'\n",
    "        r += f\"<={self.threshold}\"\n",
    "        r += f'|n={self.n_samples}'\n",
    "        r += f'|imp={self.impurity}'\n",
    "        return r\n",
    "\n",
    "\n",
    "class DecisionTree(BaseEstimator):\n",
    "    \n",
    "    def __init__(self, max_depth=np.inf, min_samples_split=2, min_samples_leaf=1,\n",
    "                 criterion='entropy', debug=False, random_state=None, agg=None):\n",
    "        self.max_depth = max_depth\n",
    "        self.min_samples_split = min_samples_split\n",
    "        self.min_samples_leaf = min_samples_leaf\n",
    "        self.criterion = criterion\n",
    "        self.d_mapper = {'gini': gini, 'entropy': entropy, 'variance': variance, 'mad_median': mad_median}\n",
    "        self.p_mapper = {'mode': mode, 'mean': np.mean, 'median': np.median}\n",
    "        self.d_func = self.d_mapper[criterion]\n",
    "        self.debug = debug\n",
    "        self.tree = None\n",
    "        self.random_state = random_state\n",
    "        self.is_clf = criterion in ['gini', 'entropy']\n",
    "        if agg is None:\n",
    "            if self.is_clf:\n",
    "                agg = 'mode'\n",
    "            else:\n",
    "                agg = 'mean'\n",
    "        self.p_func = self.p_mapper[agg]\n",
    "        self.n_unique_labels = None\n",
    "        self.tree_max_depth = 0\n",
    "        self.best_split_attempts = 0\n",
    "    \n",
    "    def get_params(self, *args, **kwargs):\n",
    "        return super().get_params()\n",
    "    \n",
    "    def fit(self, X, y):\n",
    "        np.random.seed(self.random_state)\n",
    "        \n",
    "        if self.tree is not None:\n",
    "            self.tree = None\n",
    "        self.labels = y\n",
    "        self.tree_max_depth = 0\n",
    "        self.best_split_attempts = 0\n",
    "\n",
    "        if len(X.shape) < 2:\n",
    "            X = X.reshape(-1, 1)\n",
    "        if len(y.shape) < 2:\n",
    "            y = y.reshape(-1, 1)\n",
    "        if self.is_clf:\n",
    "            self.n_unique_labels = len(np.unique(y))\n",
    "        mask = np.full(len(X), True)\n",
    "        split_queue = [(mask, None, 0)]\n",
    "\n",
    "        while True:\n",
    "            if len(split_queue) == 0:\n",
    "                break\n",
    "            split_mask, split_root, depth = split_queue.pop(0)\n",
    "            if split_mask.sum() < self.min_samples_split or depth >= self.max_depth:\n",
    "                continue\n",
    "\n",
    "            self.tree_max_depth = max(depth, self.tree_max_depth)\n",
    "\n",
    "            best_idx, best_t = self._best_split(X, y, split_mask)\n",
    "            self.best_split_attempts += 1\n",
    "            if best_idx is None:\n",
    "                continue\n",
    "#             print(\"Best split:\", best_idx, \"t=\", best_t)\n",
    "            node = Node(feature_idx=best_idx, threshold=best_t, labels=y[split_mask, :], agg=self.d_func)\n",
    "            left_mask = (X[:, best_idx] <= best_t) & split_mask\n",
    "            node.left_labels = y[left_mask, :].astype(np.int64).ravel()\n",
    "            node.left_predict = self.p_func(y[left_mask])\n",
    "            right_mask = (X[:, best_idx] > best_t) & split_mask\n",
    "            node.right_labels = y[right_mask, :].astype(np.int64).ravel()\n",
    "            node.right_predict = self.p_func(y[right_mask])\n",
    "\n",
    "            \n",
    "            split_queue.append((left_mask, node, depth + 1))\n",
    "            split_queue.append((right_mask, node, depth + 1))\n",
    "            \n",
    "            if split_root is None:\n",
    "                self.tree = node\n",
    "                continue\n",
    "            if split_root.feature_idx == node.feature_idx:\n",
    "                if split_root.threshold < node.threshold:\n",
    "                    if split_root.right:\n",
    "                        raise ValueError(\"WTF, This should not happen\")\n",
    "                    split_root.right = node\n",
    "                elif split_root.threshold > node.threshold:\n",
    "                    if split_root.left:\n",
    "                        raise ValueError(\"WTF, This should not happen 2\")\n",
    "                    split_root.left = node\n",
    "                else:\n",
    "                    raise ValueError(\"Same feature, same threshold\")\n",
    "                \n",
    "                continue\n",
    "\n",
    "            if split_root.left is None:\n",
    "                split_root.left = node\n",
    "            elif split_root.right is None:\n",
    "                split_root.right = node\n",
    "            else:\n",
    "                raise ValueError(\"WTF, split root should have at least one vacant place for the next split\")\n",
    "            \n",
    "\n",
    "\n",
    "    def _best_split(self, X, y, mask):\n",
    "        X = X[mask, :]\n",
    "        y = y[mask, :]\n",
    "        n_samples, n_features = X.shape\n",
    "        best_idx, best_d, best_t = None, None, None\n",
    "#         feature_indices = np.random.permutation(n_features)\n",
    "        for feature_idx in range(n_features):\n",
    "            d, t = self._best_feature_split(X[:, feature_idx], y, split_half=True)\n",
    "            if d is None:\n",
    "                continue\n",
    "            if best_d is None or d > best_d:\n",
    "                best_d = d\n",
    "                best_idx = feature_idx\n",
    "                best_t = t\n",
    "        return best_idx, best_t\n",
    "    \n",
    "    def _best_feature_split(self, feature, y, split_half=True):\n",
    "        thresholds = [-1, 0, 1]\n",
    "        S0 = self.d_func(y)\n",
    "        n = len(y)\n",
    "        best_t, best_d = None, None\n",
    "        for t in thresholds:\n",
    "            left_mask = feature <= t\n",
    "            right_mask = feature > t\n",
    "#             print(left_mask, right_mask)\n",
    "            yl = y[left_mask, :]\n",
    "            nl = len(yl)\n",
    "\n",
    "            yr = y[right_mask, :]\n",
    "            nr = len(yr)\n",
    "            \n",
    "            if nr == 0 or nl == 0 or left_mask.sum() < self.min_samples_leaf or right_mask.sum() < self.min_samples_leaf:\n",
    "                continue\n",
    "            if nr == 0:\n",
    "                break\n",
    "            Sl = self.d_func(yl)\n",
    "            Sr = self.d_func(yr)\n",
    "\n",
    "            D = S0 - nl / n * Sl - nr / n * Sr\n",
    "            if best_d is None or D > best_d:\n",
    "                best_d = D\n",
    "                best_t = t\n",
    "        return best_d, best_t\n",
    "    \n",
    "    def predict(self, X):\n",
    "        y = np.full(len(X), np.nan, dtype=self.labels.dtype)\n",
    "\n",
    "        mask = np.full(len(X), True)\n",
    "        cur_depth = 0\n",
    "        queue = [(self.tree, mask)]\n",
    "        while True:\n",
    "            if len(queue) == 0:\n",
    "                break\n",
    "            node, mask = queue.pop(0)\n",
    "#             print(\"CUR NODE:\", node, \"LEFT:\", node.left, \"RIGHT:\", node.right, \"\\nMASK:\", mask)\n",
    "            \n",
    "            left_mask = (X[:, node.feature_idx] <= node.threshold) & mask\n",
    "            right_mask = (X[:, node.feature_idx] > node.threshold) & mask\n",
    "#             print(\"\")\n",
    "            if not node.left:\n",
    "                y[left_mask] = node.left_predict\n",
    "            if not node.right:\n",
    "                y[right_mask] = node.right_predict\n",
    "            if node.left:\n",
    "                queue.append((node.left, left_mask))\n",
    "            if node.right:\n",
    "                queue.append((node.right, right_mask))\n",
    "        return y\n",
    "        \n",
    "    def predict_proba(self, X):\n",
    "        y = np.full((len(X), self.n_unique_labels), np.nan, dtype=self.labels.dtype)\n",
    "\n",
    "        mask = np.full(len(X), True)\n",
    "        cur_depth = 0\n",
    "        queue = [(self.tree, mask)]\n",
    "        while True:\n",
    "            if not queue:\n",
    "                break\n",
    "            node, mask = queue.pop(0)\n",
    "            left_mask = (X[:, node.feature_idx] <= node.threshold) & mask\n",
    "            right_mask = (X[:, node.feature_idx] > node.threshold) & mask\n",
    "            if not node.left:\n",
    "                cnts = np.bincount(node.left_labels, minlength=self.n_unique_labels)\n",
    "                \n",
    "                y[left_mask, :] = cnts / cnts.sum()\n",
    "            if not node.right:\n",
    "                cnts = np.bincount(node.right_labels, minlength=self.n_unique_labels)\n",
    "                y[right_mask] = cnts / cnts.sum()\n",
    "            if node.left:\n",
    "                queue.append((node.left, left_mask))\n",
    "            if node.right:\n",
    "                queue.append((node.right, right_mask))\n",
    "        return y"
   ]
  },
  {
   "cell_type": "code",
   "execution_count": 5,
   "metadata": {},
   "outputs": [],
   "source": [
    "from preproc import *\n",
    "import pandas as pd"
   ]
  },
  {
   "cell_type": "code",
   "execution_count": 6,
   "metadata": {},
   "outputs": [],
   "source": [
    "df = pd.read_csv('resources/train.csv', index_col=0)\n",
    "test_df = pd.read_csv('resources/test.csv', index_col=0)\n",
    "sub_df = pd.read_csv('resources/sampleSubmission.csv', index_col=0)\n",
    "\n",
    "delta = df.iloc[:, 0]\n",
    "Y = df.iloc[:, 1:401].values\n",
    "X = df.iloc[:, 401:].values.reshape(-1, 20, 20)\n",
    "\n",
    "kernel_size = 3\n",
    "X_i = X[delta == 1]\n",
    "Y_i = Y[delta == 1]\n",
    "\n",
    "X_train, Y_train = prepare_data(X_i, Y_i, kernel_size=kernel_size)"
   ]
  },
  {
   "cell_type": "code",
   "execution_count": 7,
   "metadata": {},
   "outputs": [],
   "source": [
    "X_train = X_train.astype(np.float64)"
   ]
  },
  {
   "cell_type": "code",
   "execution_count": 8,
   "metadata": {},
   "outputs": [],
   "source": [
    "Y_train = Y_train.astype(np.float64)"
   ]
  },
  {
   "cell_type": "code",
   "execution_count": 9,
   "metadata": {},
   "outputs": [],
   "source": [
    "Xt, Yt = X_train, Y_train"
   ]
  },
  {
   "cell_type": "code",
   "execution_count": 32,
   "metadata": {},
   "outputs": [],
   "source": [
    "m = DecisionTree(max_depth=3, random_state=42)\n",
    "m.fit(Xt, Yt)"
   ]
  },
  {
   "cell_type": "code",
   "execution_count": 10,
   "metadata": {},
   "outputs": [],
   "source": [
    "from sklearn.metrics import accuracy_score, roc_auc_score"
   ]
  },
  {
   "cell_type": "code",
   "execution_count": 36,
   "metadata": {},
   "outputs": [
    {
     "data": {
      "text/plain": [
       "0.883042004048583"
      ]
     },
     "execution_count": 36,
     "metadata": {},
     "output_type": "execute_result"
    }
   ],
   "source": [
    "accuracy_score(Yt, m.predict(Xt)), roc_auc_score(Yt, m.predict_proba(Xt)[:, 1])"
   ]
  },
  {
   "cell_type": "code",
   "execution_count": 39,
   "metadata": {},
   "outputs": [
    {
     "data": {
      "text/plain": [
       "(0.883042004048583, 0.8257417033215595)"
      ]
     },
     "execution_count": 39,
     "metadata": {},
     "output_type": "execute_result"
    }
   ],
   "source": [
    "from sklearn.tree import DecisionTreeClassifier\n",
    "\n",
    "dt = DecisionTreeClassifier(max_depth=3, random_state=42)\n",
    "dt.fit(Xt, Yt)\n",
    "accuracy_score(Yt, dt.predict(Xt)), roc_auc_score(Yt, dt.predict_proba(Xt)[:, 1])"
   ]
  },
  {
   "cell_type": "code",
   "execution_count": 42,
   "metadata": {},
   "outputs": [
    {
     "name": "stdout",
     "output_type": "stream",
     "text": [
      "8.71 s ± 1.2 s per loop (mean ± std. dev. of 7 runs, 1 loop each)\n"
     ]
    }
   ],
   "source": [
    "%%timeit\n",
    "dt.fit(Xt, Yt)"
   ]
  },
  {
   "cell_type": "code",
   "execution_count": 43,
   "metadata": {},
   "outputs": [
    {
     "name": "stdout",
     "output_type": "stream",
     "text": [
      "48.1 s ± 11.4 s per loop (mean ± std. dev. of 7 runs, 1 loop each)\n"
     ]
    }
   ],
   "source": [
    "%%timeit\n",
    "m.fit(Xt, Yt)"
   ]
  },
  {
   "cell_type": "code",
   "execution_count": 11,
   "metadata": {},
   "outputs": [],
   "source": [
    "import pyximport\n",
    "pyximport.install(language_level=3)\n",
    "from FastDecisionTree import *"
   ]
  },
  {
   "cell_type": "code",
   "execution_count": 12,
   "metadata": {},
   "outputs": [],
   "source": [
    "fdt = FastDecisionTree(max_depth=3, random_state=42)"
   ]
  },
  {
   "cell_type": "code",
   "execution_count": 13,
   "metadata": {},
   "outputs": [
    {
     "name": "stdout",
     "output_type": "stream",
     "text": [
      "7.69 s ± 493 ms per loop (mean ± std. dev. of 7 runs, 1 loop each)\n"
     ]
    }
   ],
   "source": [
    "%%timeit\n",
    "fdt.fit(Xt, Yt)"
   ]
  }
 ],
 "metadata": {
  "kernelspec": {
   "display_name": "Python 3",
   "language": "python",
   "name": "python3"
  },
  "language_info": {
   "codemirror_mode": {
    "name": "ipython",
    "version": 3
   },
   "file_extension": ".py",
   "mimetype": "text/x-python",
   "name": "python",
   "nbconvert_exporter": "python",
   "pygments_lexer": "ipython3",
   "version": "3.6.8"
  }
 },
 "nbformat": 4,
 "nbformat_minor": 4
}
