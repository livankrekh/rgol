{
 "cells": [
  {
   "cell_type": "code",
   "execution_count": 1,
   "metadata": {},
   "outputs": [],
   "source": [
    "import numpy as np\n",
    "from preproc import *\n",
    "import pandas as pd\n",
    "from sklearn.metrics import accuracy_score, roc_auc_score\n",
    "import pyximport\n",
    "pyximport.install(language_level=3)\n",
    "from FastDecisionTree import *"
   ]
  },
  {
   "cell_type": "code",
   "execution_count": 2,
   "metadata": {},
   "outputs": [],
   "source": [
    "df = pd.read_csv('resources/train.csv', index_col=0)\n",
    "test_df = pd.read_csv('resources/test.csv', index_col=0)\n",
    "sub_df = pd.read_csv('resources/sampleSubmission.csv', index_col=0)\n",
    "\n",
    "delta = df.iloc[:, 0]\n",
    "Y = df.iloc[:, 1:401].values\n",
    "X = df.iloc[:, 401:].values.reshape(-1, 20, 20)\n",
    "\n",
    "kernel_size = 3\n",
    "X_i = X[delta == 1]\n",
    "Y_i = Y[delta == 1]\n",
    "\n",
    "X_train, Y_train = prepare_data(X_i, Y_i, kernel_size=kernel_size)"
   ]
  },
  {
   "cell_type": "code",
   "execution_count": 3,
   "metadata": {},
   "outputs": [],
   "source": [
    "X_train = X_train.astype(np.float64)"
   ]
  },
  {
   "cell_type": "code",
   "execution_count": 4,
   "metadata": {},
   "outputs": [],
   "source": [
    "Y_train = Y_train.astype(np.float64)"
   ]
  },
  {
   "cell_type": "code",
   "execution_count": 5,
   "metadata": {},
   "outputs": [],
   "source": [
    "Xt, Yt = X_train, Y_train"
   ]
  },
  {
   "cell_type": "code",
   "execution_count": 6,
   "metadata": {},
   "outputs": [
    {
     "data": {
      "text/plain": [
       "(0.883042004048583, 0.8257417033215595)"
      ]
     },
     "execution_count": 6,
     "metadata": {},
     "output_type": "execute_result"
    }
   ],
   "source": [
    "fdt = FastDecisionTree(max_depth=3, random_state=42)\n",
    "fdt.fit(Xt, Yt)\n",
    "accuracy_score(Yt, fdt.predict(Xt)), roc_auc_score(Yt, fdt.predict_proba(Xt)[:, 1])"
   ]
  },
  {
   "cell_type": "code",
   "execution_count": 7,
   "metadata": {},
   "outputs": [
    {
     "data": {
      "text/plain": [
       "(0.883042004048583, 0.8257417033215595)"
      ]
     },
     "execution_count": 7,
     "metadata": {},
     "output_type": "execute_result"
    }
   ],
   "source": [
    "from sklearn.tree import DecisionTreeClassifier\n",
    "\n",
    "dt = DecisionTreeClassifier(max_depth=3, random_state=42)\n",
    "dt.fit(Xt, Yt)\n",
    "accuracy_score(Yt, dt.predict(Xt)), roc_auc_score(Yt, dt.predict_proba(Xt)[:, 1])"
   ]
  },
  {
   "cell_type": "code",
   "execution_count": 8,
   "metadata": {},
   "outputs": [
    {
     "name": "stdout",
     "output_type": "stream",
     "text": [
      "2.53 s ± 265 ms per loop (mean ± std. dev. of 7 runs, 1 loop each)\n"
     ]
    }
   ],
   "source": [
    "%%timeit\n",
    "dt.fit(Xt, Yt)"
   ]
  },
  {
   "cell_type": "code",
   "execution_count": 9,
   "metadata": {},
   "outputs": [
    {
     "name": "stdout",
     "output_type": "stream",
     "text": [
      "8.28 s ± 302 ms per loop (mean ± std. dev. of 7 runs, 1 loop each)\n"
     ]
    }
   ],
   "source": [
    "%%timeit\n",
    "fdt.fit(Xt, Yt)"
   ]
  },
  {
   "cell_type": "code",
   "execution_count": 94,
   "metadata": {},
   "outputs": [],
   "source": [
    "class RandomForestClassifier:\n",
    "    def __init__(self, n_estimators=10, max_depth=4, max_features=None, \n",
    "                 random_state=42, verbose=False):\n",
    "        self.n_estimators = n_estimators\n",
    "        self.max_depth = max_depth\n",
    "        self.max_features = max_features\n",
    "        self.random_state = random_state\n",
    "        self.verbose = verbose\n",
    "\n",
    "        self.unique_labels = None\n",
    "        self.trees = []\n",
    "        self.feat_ids_by_tree = []\n",
    "        \n",
    "    def fit(self, X, y):\n",
    "        n, m = X.shape\n",
    "        nrange = np.arange(n)\n",
    "        mrange = np.arange(m)\n",
    "        max_features = m if self.max_features is None else self.max_features\n",
    "        \n",
    "        self.unique_labels = np.unique(y)\n",
    "        for i in range(self.n_estimators):\n",
    "            seed = self.random_state + i\n",
    "            np.random.seed(seed)\n",
    "\n",
    "            if self.verbose:\n",
    "                print(f'[{i+1}/{self.n_estimators}]')\n",
    "\n",
    "            fi = np.random.choice(mrange, replace=False, size=max_features)\n",
    "            si = np.random.choice(nrange, replace=True, size=n)\n",
    "            X_train = X[si, :][:, fi]\n",
    "            y_train = y[si]\n",
    "\n",
    "            self.feat_ids_by_tree.append(fi)\n",
    "            \n",
    "            dt = FastDecisionTree(max_depth=self.max_depth, random_state=seed)\n",
    "            self.trees.append(dt)\n",
    "            dt.fit(X_train, y_train)\n",
    "\n",
    "        if self.verbose:\n",
    "            print(f\"Training is finished: {len(self.trees)} trees have beed built | {len(self.unique_labels)} labels in target\")\n",
    "        return self\n",
    "\n",
    "    \n",
    "    def predict_proba(self, X):\n",
    "        probs = np.zeros((len(X), len(self.unique_labels)))\n",
    "        for tree, fi in zip(self.trees, self.feat_ids_by_tree):\n",
    "            X_sub = X[:, fi]\n",
    "            probs += tree.predict_proba(X_sub)\n",
    "        return probs / len(self.trees)\n",
    "    \n",
    "    def predict(self, X):\n",
    "        return np.argmax(self.predict_proba(X), axis=1)\n",
    "\n",
    "    def __repr__(self):\n",
    "        return f'{self.__class__.__name__}: {self.get_params()}'\n",
    "\n",
    "    def get_params(self):\n",
    "        return {'n_estimators': self.n_estimators, 'max_depth': self.max_depth, 'max_features': self.max_features}"
   ]
  },
  {
   "cell_type": "code",
   "execution_count": 95,
   "metadata": {},
   "outputs": [],
   "source": [
    "rf = RandomForestClassifier(n_estimators=3, verbose=True, random_state=42)"
   ]
  },
  {
   "cell_type": "code",
   "execution_count": 96,
   "metadata": {},
   "outputs": [
    {
     "name": "stdout",
     "output_type": "stream",
     "text": [
      "[1/3]\n",
      "[2/3]\n",
      "[3/3]\n",
      "Training is finished: 3 trees have beed built | 2 labels in target\n"
     ]
    },
    {
     "data": {
      "text/plain": [
       "RandomForestClassifier: {'n_estimators': 3, 'max_depth': 4, 'max_features': None}"
      ]
     },
     "execution_count": 96,
     "metadata": {},
     "output_type": "execute_result"
    }
   ],
   "source": [
    "rf.fit(Xt, Yt)"
   ]
  },
  {
   "cell_type": "code",
   "execution_count": 93,
   "metadata": {},
   "outputs": [
    {
     "data": {
      "text/plain": [
       "(0.883042004048583, 0.8623083485750223)"
      ]
     },
     "execution_count": 93,
     "metadata": {},
     "output_type": "execute_result"
    }
   ],
   "source": [
    "accuracy_score(Yt, rf.predict(Xt)), roc_auc_score(Yt, rf.predict_proba(Xt)[:, 1])"
   ]
  }
 ],
 "metadata": {
  "kernelspec": {
   "display_name": "Python 3",
   "language": "python",
   "name": "python3"
  },
  "language_info": {
   "codemirror_mode": {
    "name": "ipython",
    "version": 3
   },
   "file_extension": ".py",
   "mimetype": "text/x-python",
   "name": "python",
   "nbconvert_exporter": "python",
   "pygments_lexer": "ipython3",
   "version": "3.7.4"
  }
 },
 "nbformat": 4,
 "nbformat_minor": 4
}
